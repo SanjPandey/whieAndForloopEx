{
 "cells": [
  {
   "cell_type": "code",
   "execution_count": 1,
   "id": "cfe02336",
   "metadata": {},
   "outputs": [],
   "source": [
    "#while loop"
   ]
  },
  {
   "cell_type": "code",
   "execution_count": 2,
   "id": "1fb1e1c7",
   "metadata": {},
   "outputs": [
    {
     "name": "stdout",
     "output_type": "stream",
     "text": [
      "1\n",
      "2\n",
      "3\n",
      "4\n"
     ]
    }
   ],
   "source": [
    "a=1\n",
    "while a<5:\n",
    "    print(a)\n",
    "    a=a+1"
   ]
  },
  {
   "cell_type": "code",
   "execution_count": 3,
   "id": "ece39775",
   "metadata": {},
   "outputs": [],
   "source": [
    "#for loop"
   ]
  },
  {
   "cell_type": "code",
   "execution_count": 4,
   "id": "55c42204",
   "metadata": {},
   "outputs": [
    {
     "data": {
      "text/plain": [
       "range(0, 5)"
      ]
     },
     "execution_count": 4,
     "metadata": {},
     "output_type": "execute_result"
    }
   ],
   "source": [
    "range(5)"
   ]
  },
  {
   "cell_type": "code",
   "execution_count": 5,
   "id": "92e58895",
   "metadata": {},
   "outputs": [
    {
     "data": {
      "text/plain": [
       "[0, 1, 2, 3, 4]"
      ]
     },
     "execution_count": 5,
     "metadata": {},
     "output_type": "execute_result"
    }
   ],
   "source": [
    "list(range(5))"
   ]
  },
  {
   "cell_type": "code",
   "execution_count": 7,
   "id": "e59fe7a3",
   "metadata": {},
   "outputs": [
    {
     "name": "stdout",
     "output_type": "stream",
     "text": [
      "0\n",
      "1\n",
      "2\n",
      "3\n",
      "4\n"
     ]
    }
   ],
   "source": [
    "for i in range(5):\n",
    "    print(i)"
   ]
  },
  {
   "cell_type": "code",
   "execution_count": 10,
   "id": "8e40c6a9",
   "metadata": {},
   "outputs": [
    {
     "name": "stdout",
     "output_type": "stream",
     "text": [
      "5\n",
      "6\n",
      "7\n",
      "8\n",
      "9\n"
     ]
    }
   ],
   "source": [
    "for i in range(5,10): #start wit 5,end with 10\n",
    "    print(i)"
   ]
  },
  {
   "cell_type": "code",
   "execution_count": 12,
   "id": "a56cea29",
   "metadata": {},
   "outputs": [
    {
     "name": "stdout",
     "output_type": "stream",
     "text": [
      "5\n",
      "8\n"
     ]
    }
   ],
   "source": [
    "for i in range(5,10,3): #star 10,end wit 10,interval with 3\n",
    "    print(i)"
   ]
  },
  {
   "cell_type": "code",
   "execution_count": 15,
   "id": "7a507ddc",
   "metadata": {},
   "outputs": [
    {
     "data": {
      "text/plain": [
       "list"
      ]
     },
     "execution_count": 15,
     "metadata": {},
     "output_type": "execute_result"
    }
   ],
   "source": [
    "a=[2,4,6,8]  list of even number\n",
    "type(a)\n"
   ]
  },
  {
   "cell_type": "code",
   "execution_count": 20,
   "id": "1d077cc5",
   "metadata": {},
   "outputs": [
    {
     "name": "stdout",
     "output_type": "stream",
     "text": [
      "[1, 3, 5, 7, 9]\n"
     ]
    }
   ],
   "source": [
    "l=[]\n",
    "for i in range(1,10):\n",
    "    if i%2==1:\n",
    "        l.append(i)\n",
    "print(l)"
   ]
  },
  {
   "cell_type": "code",
   "execution_count": 21,
   "id": "9370e9fa",
   "metadata": {},
   "outputs": [],
   "source": [
    "a=\"sachin123\""
   ]
  },
  {
   "cell_type": "code",
   "execution_count": 25,
   "id": "0d374734",
   "metadata": {},
   "outputs": [],
   "source": [
    "a=\"sachin123\"\n"
   ]
  },
  {
   "cell_type": "code",
   "execution_count": null,
   "id": "1f423d0f",
   "metadata": {},
   "outputs": [],
   "source": [
    "#a = \"sachin123tendulkar007\"\n",
    "#out1 = \"sachintendulkar\"\n",
    "#out2 = \"123007\""
   ]
  },
  {
   "cell_type": "code",
   "execution_count": 28,
   "id": "55996c16",
   "metadata": {},
   "outputs": [
    {
     "name": "stdout",
     "output_type": "stream",
     "text": [
      "Alphabets: sachin\n",
      "Digits: 123\n"
     ]
    }
   ],
   "source": [
    "a = \"sachin123\"\n",
    "\n",
    "alphabets = \"\"\n",
    "digits = \"\"\n",
    "\n",
    "for char in a:\n",
    "    if char.isalpha():\n",
    "        alphabets += char\n",
    "    elif char.isdigit():\n",
    "        digits += char\n",
    "\n",
    "print(\"Alphabets:\", alphabets)\n",
    "print(\"Digits:\", digits)"
   ]
  },
  {
   "cell_type": "code",
   "execution_count": 29,
   "id": "2bedf0f1",
   "metadata": {},
   "outputs": [
    {
     "name": "stdout",
     "output_type": "stream",
     "text": [
      "s\n",
      "a\n",
      "c\n",
      "h\n",
      "i\n",
      "n\n",
      "1\n",
      "2\n",
      "3\n"
     ]
    }
   ],
   "source": [
    "for i in a:\n",
    "    print(i)"
   ]
  },
  {
   "cell_type": "code",
   "execution_count": null,
   "id": "3d39f746",
   "metadata": {},
   "outputs": [],
   "source": [
    "#a = \"sachin123tendulkar007\"\n",
    "#out1 = \"sachintendulkar\"\n",
    "#out2 = \"123007\""
   ]
  },
  {
   "cell_type": "code",
   "execution_count": 37,
   "id": "7c5e84c0",
   "metadata": {},
   "outputs": [
    {
     "name": "stdout",
     "output_type": "stream",
     "text": [
      "Alphabets: sachin\n",
      "Digits: 123\n"
     ]
    }
   ],
   "source": [
    "\n",
    "a = \"sachin123\"\n",
    "out1=\"\"\n",
    "out2=\"\"\n",
    "for i in a:\n",
    "    if i.isalpha():\n",
    "        out1 +=i\n",
    "    elif i.isdigit():\n",
    "        out2 +=i\n"
   ]
  },
  {
   "cell_type": "code",
   "execution_count": null,
   "id": "722f7d16",
   "metadata": {},
   "outputs": [],
   "source": [
    "xxxxxxxxxx\n",
    "#a = [\"arun\", \"sachintendulkar\", \"viratkholi\", \"dhoni\"]\n",
    "#name lenght > 8\n",
    "#it should end with I\n",
    "#out = [\"viratkholi\"]\n",
    "\n"
   ]
  },
  {
   "cell_type": "code",
   "execution_count": 43,
   "id": "f7e6deb0",
   "metadata": {},
   "outputs": [
    {
     "name": "stdout",
     "output_type": "stream",
     "text": [
      "Output: ['viratkholi']\n"
     ]
    }
   ],
   "source": [
    "        \n",
    "a = [\"arun\", \"sachintendulkar\", \"viratkholi\", \"dhoni\"]\n",
    "result = []\n",
    "\n",
    "for name in a:\n",
    "    if len(name) > 8 and name.endswith(\"i\"):\n",
    "        result.append(name)\n",
    "\n",
    "print(\"Output:\", result)"
   ]
  },
  {
   "cell_type": "code",
   "execution_count": 44,
   "id": "091e3b44",
   "metadata": {},
   "outputs": [],
   "source": [
    "#Sum of Numbers:\n",
    "#Write a program to calculate the sum of all numbers from 1 to 10 using a for loop."
   ]
  },
  {
   "cell_type": "code",
   "execution_count": 47,
   "id": "970b8227",
   "metadata": {},
   "outputs": [
    {
     "name": "stdout",
     "output_type": "stream",
     "text": [
      "45\n"
     ]
    }
   ],
   "source": [
    "sum=0\n",
    "for i in range(1,10):\n",
    "    sum=sum+i\n",
    "print(sum)"
   ]
  },
  {
   "cell_type": "code",
   "execution_count": 48,
   "id": "2d01c071",
   "metadata": {},
   "outputs": [],
   "source": [
    "#Print Even Numbers:\n",
    "#Write a program to print all even numbers from 1 to 20 using a for loop."
   ]
  },
  {
   "cell_type": "code",
   "execution_count": 57,
   "id": "90923a47",
   "metadata": {},
   "outputs": [
    {
     "name": "stdout",
     "output_type": "stream",
     "text": [
      "2\n",
      "4\n",
      "6\n",
      "8\n"
     ]
    }
   ],
   "source": [
    "\n",
    "for i in range(1,10):\n",
    "    if i%2 == 0:\n",
    "        print(i)"
   ]
  },
  {
   "cell_type": "code",
   "execution_count": 58,
   "id": "35aa5501",
   "metadata": {},
   "outputs": [],
   "source": [
    "#Factorial Calculation:\n",
    "#Write a program to calculate the factorial of a given number using a for loop."
   ]
  },
  {
   "cell_type": "code",
   "execution_count": 68,
   "id": "fa7766ec",
   "metadata": {},
   "outputs": [
    {
     "name": "stdout",
     "output_type": "stream",
     "text": [
      "120\n"
     ]
    }
   ],
   "source": [
    "fact=1\n",
    "for i in range(1,6):\n",
    "    fact=fact*i\n",
    "print(fact)"
   ]
  },
  {
   "cell_type": "code",
   "execution_count": 69,
   "id": "d3a957e5",
   "metadata": {},
   "outputs": [],
   "source": [
    "#Multiplication Table:\n",
    "#Write a program to print the multiplication table of a given number using a for loop."
   ]
  },
  {
   "cell_type": "code",
   "execution_count": 71,
   "id": "8346f58b",
   "metadata": {},
   "outputs": [
    {
     "name": "stdout",
     "output_type": "stream",
     "text": [
      "2\n",
      "4\n",
      "6\n",
      "8\n",
      "10\n",
      "12\n",
      "14\n",
      "16\n",
      "18\n"
     ]
    }
   ],
   "source": [
    "table=2\n",
    "for tableOf2 in range(2,20,2):\n",
    "    print(tableOf2)"
   ]
  },
  {
   "cell_type": "code",
   "execution_count": 73,
   "id": "c240bc81",
   "metadata": {},
   "outputs": [],
   "source": [
    "#print a String:\n",
    "#Write a program to reverse a given string using a for loop."
   ]
  },
  {
   "cell_type": "code",
   "execution_count": 84,
   "id": "89bae330",
   "metadata": {},
   "outputs": [
    {
     "name": "stdout",
     "output_type": "stream",
     "text": [
      "I\n",
      " \n",
      "a\n",
      "m\n",
      " \n",
      "g\n",
      "o\n",
      "o\n",
      "d\n"
     ]
    }
   ],
   "source": [
    "reverse_string=\"\"\n",
    "orignal_string=\"I am good\"\n",
    "for i in orignal_string:\n",
    "    print(i)\n",
    "    "
   ]
  },
  {
   "cell_type": "code",
   "execution_count": null,
   "id": "221a9803",
   "metadata": {},
   "outputs": [],
   "source": [
    "#print a String:\n",
    "#Write a program to reverse a given string using a for loop."
   ]
  },
  {
   "cell_type": "code",
   "execution_count": 85,
   "id": "c2e7052a",
   "metadata": {},
   "outputs": [
    {
     "name": "stdout",
     "output_type": "stream",
     "text": [
      "doog ma I\n"
     ]
    }
   ],
   "source": [
    "reverse_string=\"\"\n",
    "orignal_string=\"I am good\"\n",
    "for i in orignal_string:\n",
    "    reverse_string = i + reverse_string\n",
    "print(reverse_string)"
   ]
  },
  {
   "cell_type": "code",
   "execution_count": 86,
   "id": "aa6be2b8",
   "metadata": {},
   "outputs": [],
   "source": [
    "#Count Vowels:\n",
    "#Write a program to count the number of vowels in a given string using a for loop."
   ]
  },
  {
   "cell_type": "code",
   "execution_count": 89,
   "id": "77c9544f",
   "metadata": {},
   "outputs": [
    {
     "name": "stdout",
     "output_type": "stream",
     "text": [
      "enetr a stringankit\n",
      "2\n"
     ]
    }
   ],
   "source": [
    "\n",
    "a=input(\"enetr a string\")\n",
    "vowel_count=0\n",
    "\n",
    "for i in a:\n",
    "    if i.lower() in 'aeiou':\n",
    "        vowel_count +=1\n",
    "print(vowel_count)"
   ]
  },
  {
   "cell_type": "code",
   "execution_count": 90,
   "id": "3fa557c8",
   "metadata": {},
   "outputs": [],
   "source": [
    "#Print Patterns:\n",
    "#Write a program to print the following pattern using nested for loops"
   ]
  },
  {
   "cell_type": "code",
   "execution_count": 102,
   "id": "23d8870d",
   "metadata": {},
   "outputs": [
    {
     "name": "stdout",
     "output_type": "stream",
     "text": [
      "*\n",
      "**\n",
      "***\n",
      "****\n"
     ]
    }
   ],
   "source": [
    "for i in range(1,5):\n",
    "    for j in range(i):\n",
    "        print(\"*\",end=\"\")\n",
    "    print()\n"
   ]
  },
  {
   "cell_type": "code",
   "execution_count": null,
   "id": "cf52e8a2",
   "metadata": {},
   "outputs": [],
   "source": []
  }
 ],
 "metadata": {
  "kernelspec": {
   "display_name": "Python 3 (ipykernel)",
   "language": "python",
   "name": "python3"
  },
  "language_info": {
   "codemirror_mode": {
    "name": "ipython",
    "version": 3
   },
   "file_extension": ".py",
   "mimetype": "text/x-python",
   "name": "python",
   "nbconvert_exporter": "python",
   "pygments_lexer": "ipython3",
   "version": "3.11.5"
  }
 },
 "nbformat": 4,
 "nbformat_minor": 5
}
